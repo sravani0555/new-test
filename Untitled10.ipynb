{
  "nbformat": 4,
  "nbformat_minor": 0,
  "metadata": {
    "colab": {
      "provenance": [],
      "authorship_tag": "ABX9TyN9qaRp31lOXMmdVydA/rZR",
      "include_colab_link": true
    },
    "kernelspec": {
      "name": "python3",
      "display_name": "Python 3"
    },
    "language_info": {
      "name": "python"
    }
  },
  "cells": [
    {
      "cell_type": "markdown",
      "metadata": {
        "id": "view-in-github",
        "colab_type": "text"
      },
      "source": [
        "<a href=\"https://colab.research.google.com/github/sravani0555/new-test/blob/main/Untitled10.ipynb\" target=\"_parent\"><img src=\"https://colab.research.google.com/assets/colab-badge.svg\" alt=\"Open In Colab\"/></a>"
      ]
    },
    {
      "cell_type": "code",
      "source": [
        "class Place:\n",
        "    def __init__(self, name):\n",
        "        self.name = name\n",
        "        self.connections = []\n",
        "\n",
        "class BusConnection:\n",
        "    def __init__(self, destination, timings):\n",
        "        self.destination = destination\n",
        "        self.timings = timings\n",
        "\n",
        "places = {\n",
        "    \"City Center\": Place(\"City Center\"),\n",
        "    \"Suburb Mall\": Place(\"Suburb Mall\"),\n",
        "}\n",
        "\n",
        "places[\"City Center\"].connections.append(BusConnection(\"Suburb Mall\", [\"8:00 AM\", \"10:30 AM\", \"1:00 PM\"]))\n",
        "\n",
        "def find_bus_timings(source, destination):\n",
        "    source_place = places.get(source)\n",
        "    if source_place:\n",
        "        for connection in source_place.connections:\n",
        "            if connection.destination == destination:\n",
        "                return connection.timings\n",
        "    return None\n",
        "\n",
        "def main():\n",
        "    source = input(\"Enter source place: \")\n",
        "    destination = input(\"Enter destination place: \")\n",
        "\n",
        "    timings = find_bus_timings(source, destination)\n",
        "    if timings:\n",
        "        print(f\"Bus timings from {source} to {destination}: {', '.join(timings)}\")\n",
        "    else:\n",
        "        print(\"8:00 AM\", \"10:30 AM\", \"1:00 PM.\")\n",
        "\n",
        "if __name__ == \"__main__\":\n",
        "    main()"
      ],
      "metadata": {
        "colab": {
          "base_uri": "https://localhost:8080/"
        },
        "id": "lRYG2gVN87lR",
        "outputId": "4676d3e1-ddaf-4552-e1d2-111343941f05"
      },
      "execution_count": 15,
      "outputs": [
        {
          "output_type": "stream",
          "name": "stdout",
          "text": [
            "Enter source place: suburb mall\n",
            "Enter destination place: city center\n",
            "8:00 AM 10:30 AM 1:00 PM.\n"
          ]
        }
      ]
    },
    {
      "cell_type": "code",
      "source": [
        "class Hostel:\n",
        "    def __init__(self, name, timings, menu):\n",
        "        self.name = name\n",
        "        self.timings = timings\n",
        "        self.menu = menu\n",
        "\n",
        "hostel_data = [\n",
        "    Hostel(\"Hostel A\", \"Breakfast: 7-9 AM, Lunch: 12-2 PM, Dinner: 7-8:30 PM\", \"Pasta, Salad, Juice\"),\n",
        "    Hostel(\"Hostel B\", \"Breakfast: 7:30-9:30 AM, Lunch: 12:30-2:30 PM, Dinner: 6:30-8 PM\", \"Rice, Curry, Vegetables\"),\n",
        "]\n",
        "\n",
        "def find_hostel(hostel_name):\n",
        "    for hostel in hostel_data:\n",
        "        if hostel.name.lower() == hostel_name.lower():\n",
        "            return hostel\n",
        "    return None\n",
        "\n",
        "def main():\n",
        "    hostel_name = input(\"Enter hostel name: \")\n",
        "    selected_hostel = find_hostel(hostel_name)\n",
        "\n",
        "    if selected_hostel:\n",
        "        print(f\"Timings for {selected_hostel.name}: {selected_hostel.timings}\")\n",
        "        print(f\"Menu for {selected_hostel.name}: {selected_hostel.menu}\")\n",
        "    else:\n",
        "        print(\"Hostel not found.\")\n",
        "\n",
        "if __name__ == \"__main__\":\n",
        "    main()"
      ],
      "metadata": {
        "colab": {
          "base_uri": "https://localhost:8080/"
        },
        "id": "P7WbMwl8-56K",
        "outputId": "db0aad5b-8a54-47a9-f67c-d16422196c76"
      },
      "execution_count": 11,
      "outputs": [
        {
          "output_type": "stream",
          "name": "stdout",
          "text": [
            "Enter hostel name: hostel A\n",
            "Timings for Hostel A: Breakfast: 7-9 AM, Lunch: 12-2 PM, Dinner: 7-8:30 PM\n",
            "Menu for Hostel A: Pasta, Salad, Juice\n"
          ]
        }
      ]
    },
    {
      "cell_type": "code",
      "source": [],
      "metadata": {
        "id": "v428wgsv-6bh"
      },
      "execution_count": null,
      "outputs": []
    }
  ]
}